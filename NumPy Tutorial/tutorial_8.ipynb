{
 "cells": [
  {
   "cell_type": "markdown",
   "metadata": {},
   "source": [
    "# Random Sampling"
   ]
  },
  {
   "cell_type": "code",
   "execution_count": 1,
   "metadata": {},
   "outputs": [],
   "source": [
    "import numpy as np\n",
    "# random imported which creates random values\n",
    "import random"
   ]
  },
  {
   "cell_type": "code",
   "execution_count": 3,
   "metadata": {},
   "outputs": [
    {
     "name": "stdout",
     "output_type": "stream",
     "text": [
      "[0.41661854]\n"
     ]
    }
   ],
   "source": [
    "#creating random 1d array\n",
    "ar1_1d = np.random.random(1) #'np.random' module is accessed 'random' number is asked '1' for single value\n",
    "#note: it will give values between 0 and 1 only!\n",
    "print(ar1_1d)"
   ]
  },
  {
   "cell_type": "code",
   "execution_count": 6,
   "metadata": {},
   "outputs": [
    {
     "name": "stdout",
     "output_type": "stream",
     "text": [
      "[[0.87465126 0.29242031 0.08187209 0.29540206]\n",
      " [0.92633161 0.90187259 0.4030477  0.63380874]\n",
      " [0.08149393 0.62018196 0.06525823 0.24191814]\n",
      " [0.3834254  0.93777504 0.74150545 0.88885884]]\n"
     ]
    }
   ],
   "source": [
    "#creating random 2d array\n",
    "ar2_2d = np.random.random((4,4)) #'np.random' module is accessed 'random' random number is asked for 4 row and 4 column\n",
    "#note: here brackets area doubled\n",
    "print(ar2_2d)"
   ]
  },
  {
   "cell_type": "markdown",
   "metadata": {},
   "source": [
    "# randint()"
   ]
  },
  {
   "cell_type": "code",
   "execution_count": 7,
   "metadata": {},
   "outputs": [
    {
     "name": "stdout",
     "output_type": "stream",
     "text": [
      "1\n"
     ]
    }
   ],
   "source": [
    "#integer value is wanted between 1 and 4\n",
    "ar3_1d = np.random.randint(1,5) #'np.random' module is accessed 'randint' random integer number is asked\n",
    "print(ar3_1d)"
   ]
  },
  {
   "cell_type": "code",
   "execution_count": 8,
   "metadata": {},
   "outputs": [
    {
     "name": "stdout",
     "output_type": "stream",
     "text": [
      "[[1 1 3 4]\n",
      " [4 4 3 1]\n",
      " [1 2 1 4]\n",
      " [3 1 1 1]]\n"
     ]
    }
   ],
   "source": [
    "#2d random array\n",
    "ar4_2d = np.random.randint(1,5, (4,4)) #'np.random' module is accessed 'randint' random integer number is asked in form of 2d array of 4 row and 4 column\n",
    "print(ar4_2d)"
   ]
  },
  {
   "cell_type": "code",
   "execution_count": 9,
   "metadata": {},
   "outputs": [
    {
     "name": "stdout",
     "output_type": "stream",
     "text": [
      "[[[1 3 2]\n",
      "  [2 4 1]\n",
      "  [3 3 2]]\n",
      "\n",
      " [[3 4 4]\n",
      "  [3 2 2]\n",
      "  [3 1 2]]]\n"
     ]
    }
   ],
   "source": [
    "#3d random array\n",
    "ar5_3d = np.random.randint(1,5, (2,3,3)) #'np.random' module is accessed 'randint' random integer number is asked in form of 3d array of 3 row and 3 column\n",
    "print(ar5_3d)"
   ]
  },
  {
   "cell_type": "markdown",
   "metadata": {},
   "source": [
    "# Using specific random value again"
   ]
  },
  {
   "cell_type": "code",
   "execution_count": 10,
   "metadata": {},
   "outputs": [
    {
     "name": "stdout",
     "output_type": "stream",
     "text": [
      "[[[4 4 3]\n",
      "  [2 2 3]\n",
      "  [4 4 1]]\n",
      "\n",
      " [[1 3 2]\n",
      "  [1 2 2]\n",
      "  [2 3 4]]]\n"
     ]
    }
   ],
   "source": [
    "#using one random value again\n",
    "np.random.seed(12)\n",
    "ar6_3d = np.random.randint(1,5, (2,3,3))\n",
    "print(ar6_3d)"
   ]
  },
  {
   "cell_type": "code",
   "execution_count": 11,
   "metadata": {},
   "outputs": [
    {
     "name": "stdout",
     "output_type": "stream",
     "text": [
      "[[[4 4 3]\n",
      "  [2 2 3]\n",
      "  [4 4 1]]\n",
      "\n",
      " [[1 3 2]\n",
      "  [1 2 2]\n",
      "  [2 3 4]]]\n"
     ]
    }
   ],
   "source": [
    "#using one random value again\n",
    "np.random.seed(12) #seed is used to used the specific random value again and again\n",
    "ar7_3d = np.random.randint(1,5, (2,3,3))\n",
    "print(ar7_3d)"
   ]
  },
  {
   "cell_type": "code",
   "execution_count": 15,
   "metadata": {},
   "outputs": [
    {
     "data": {
      "text/plain": [
       "4294967295"
      ]
     },
     "execution_count": 15,
     "metadata": {},
     "output_type": "execute_result"
    }
   ],
   "source": [
    "#here we can see that (ar6_3d = ar7_3d)\n",
    "#above we have taken seed value 12, you must me wondering that how many random values can we take\n",
    "#random values pattern can go upto\n",
    "2**32 -1"
   ]
  },
  {
   "cell_type": "markdown",
   "metadata": {},
   "source": [
    "# rand()"
   ]
  },
  {
   "cell_type": "code",
   "execution_count": 16,
   "metadata": {},
   "outputs": [
    {
     "data": {
      "text/plain": [
       "array([0.13720932, 0.28382835, 0.60608318])"
      ]
     },
     "execution_count": 16,
     "metadata": {},
     "output_type": "execute_result"
    }
   ],
   "source": [
    "#float values in 1d array\n",
    "np.random.rand(3) "
   ]
  },
  {
   "cell_type": "code",
   "execution_count": 17,
   "metadata": {},
   "outputs": [
    {
     "data": {
      "text/plain": [
       "array([[0.94422514, 0.85273554, 0.00225923],\n",
       "       [0.52122603, 0.55203763, 0.48537741],\n",
       "       [0.76813415, 0.16071675, 0.76456045]])"
      ]
     },
     "execution_count": 17,
     "metadata": {},
     "output_type": "execute_result"
    }
   ],
   "source": [
    "#float values in 2d array of 3x3\n",
    "np.random.rand(3,3)"
   ]
  },
  {
   "cell_type": "markdown",
   "metadata": {},
   "source": [
    "# randn()"
   ]
  },
  {
   "cell_type": "code",
   "execution_count": 18,
   "metadata": {},
   "outputs": [
    {
     "data": {
      "text/plain": [
       "array([[-0.34947094, -0.70541676, -0.34018626],\n",
       "       [ 2.02729871, -0.58108011,  0.87313484],\n",
       "       [ 0.91056528,  1.04764561, -1.18963857]])"
      ]
     },
     "execution_count": 18,
     "metadata": {},
     "output_type": "execute_result"
    }
   ],
   "source": [
    "#negative and positive values in 2d array of 3x3\n",
    "np.random.randn(3,3)"
   ]
  },
  {
   "cell_type": "markdown",
   "metadata": {},
   "source": [
    "# Choosing"
   ]
  },
  {
   "cell_type": "code",
   "execution_count": 19,
   "metadata": {},
   "outputs": [
    {
     "data": {
      "text/plain": [
       "6"
      ]
     },
     "execution_count": 19,
     "metadata": {},
     "output_type": "execute_result"
    }
   ],
   "source": [
    "#choosing a random item from list\n",
    "x = [1,2,3,4,5,6,7,8,9]\n",
    "np.random.choice(x)"
   ]
  },
  {
   "cell_type": "markdown",
   "metadata": {},
   "source": [
    "# Permutations"
   ]
  },
  {
   "cell_type": "code",
   "execution_count": 20,
   "metadata": {},
   "outputs": [
    {
     "data": {
      "text/plain": [
       "array([7, 3, 1, 2, 8, 9, 5, 4, 6])"
      ]
     },
     "execution_count": 20,
     "metadata": {},
     "output_type": "execute_result"
    }
   ],
   "source": [
    "#for shuffling of list elements\n",
    "np.random.permutation(x)"
   ]
  },
  {
   "cell_type": "code",
   "execution_count": 23,
   "metadata": {},
   "outputs": [],
   "source": [
    "#These were most commonly used but there are many more if you want visit:\n",
    "# https://docs.scipy.org/doc/numpy-1.14.0/reference/routines.random.html"
   ]
  }
 ],
 "metadata": {
  "kernelspec": {
   "display_name": "Python 3",
   "language": "python",
   "name": "python3"
  },
  "language_info": {
   "codemirror_mode": {
    "name": "ipython",
    "version": 3
   },
   "file_extension": ".py",
   "mimetype": "text/x-python",
   "name": "python",
   "nbconvert_exporter": "python",
   "pygments_lexer": "ipython3",
   "version": "3.7.6"
  }
 },
 "nbformat": 4,
 "nbformat_minor": 4
}
