{
 "cells": [
  {
   "cell_type": "markdown",
   "metadata": {},
   "source": [
    "# String Operation"
   ]
  },
  {
   "cell_type": "code",
   "execution_count": 1,
   "metadata": {},
   "outputs": [],
   "source": [
    "import numpy as np"
   ]
  },
  {
   "cell_type": "code",
   "execution_count": 2,
   "metadata": {},
   "outputs": [],
   "source": [
    "#created to string\n",
    "str1 = \"Cursor And Keys\"\n",
    "str2 = \"Leaning Python Numpy\""
   ]
  },
  {
   "cell_type": "code",
   "execution_count": 5,
   "metadata": {},
   "outputs": [
    {
     "name": "stdout",
     "output_type": "stream",
     "text": [
      "Cursor And KeysLeaning Python Numpy\n"
     ]
    }
   ],
   "source": [
    "#adding two string\n",
    "str3 = np.char.add(str1, str2)\n",
    "print(str3)"
   ]
  },
  {
   "cell_type": "code",
   "execution_count": 7,
   "metadata": {},
   "outputs": [
    {
     "name": "stdout",
     "output_type": "stream",
     "text": [
      "Cursor And KeysCursor And Keys\n"
     ]
    }
   ],
   "source": [
    "#muliplication to string\n",
    "str4 = np.char.multiply(str1, 2)\n",
    "print(str4)"
   ]
  },
  {
   "cell_type": "code",
   "execution_count": 13,
   "metadata": {},
   "outputs": [
    {
     "name": "stdout",
     "output_type": "stream",
     "text": [
      "cursor and keys\n"
     ]
    }
   ],
   "source": [
    "#turning to lower case\n",
    "str5 = np.char.lower(str1)\n",
    "print(str5)"
   ]
  },
  {
   "cell_type": "code",
   "execution_count": 18,
   "metadata": {},
   "outputs": [
    {
     "name": "stdout",
     "output_type": "stream",
     "text": [
      "CURSOR AND KEYS\n"
     ]
    }
   ],
   "source": [
    "#turning to upper case\n",
    "str6 = np.char.upper(str1)\n",
    "print(str6)"
   ]
  },
  {
   "cell_type": "code",
   "execution_count": 11,
   "metadata": {},
   "outputs": [
    {
     "name": "stdout",
     "output_type": "stream",
     "text": [
      "Cursor And Keys\n"
     ]
    }
   ],
   "source": [
    "#turning to title case\n",
    "str7 = np.char.title(str6)\n",
    "print(str7)"
   ]
  },
  {
   "cell_type": "code",
   "execution_count": 15,
   "metadata": {},
   "outputs": [
    {
     "name": "stdout",
     "output_type": "stream",
     "text": [
      "                      Cursor And Keys                       \n"
     ]
    }
   ],
   "source": [
    "#displaying string in the centre\n",
    "str8 = np.char.center(str7, 60) #60 character string and str7 is in center\n",
    "#Note: center not centre\n",
    "print(str8)"
   ]
  },
  {
   "cell_type": "code",
   "execution_count": 16,
   "metadata": {},
   "outputs": [
    {
     "name": "stdout",
     "output_type": "stream",
     "text": [
      "**********************Cursor And Keys***********************\n"
     ]
    }
   ],
   "source": [
    "#displaying string in the centre\n",
    "str9 = np.char.center(str7, 60, fillchar=\"*\") #60 character string and str7 is in center and space is filled with *\n",
    "print(str9)"
   ]
  },
  {
   "cell_type": "code",
   "execution_count": 19,
   "metadata": {},
   "outputs": [
    {
     "name": "stdout",
     "output_type": "stream",
     "text": [
      "['CURSOR', 'AND', 'KEYS']\n"
     ]
    }
   ],
   "source": [
    "#splittig string in list item\n",
    "str10 = np.char.split(str6)\n",
    "print(str10)"
   ]
  },
  {
   "cell_type": "code",
   "execution_count": 20,
   "metadata": {},
   "outputs": [
    {
     "data": {
      "text/plain": [
       "array(list(['cursor', 'and', 'keys']), dtype=object)"
      ]
     },
     "execution_count": 20,
     "metadata": {},
     "output_type": "execute_result"
    }
   ],
   "source": [
    "#splitlines\n",
    "np.char.splitlines(\"cursor\\nand\\nkeys\")"
   ]
  },
  {
   "cell_type": "code",
   "execution_count": 21,
   "metadata": {},
   "outputs": [
    {
     "name": "stdout",
     "output_type": "stream",
     "text": [
      "['K:u:s:h:a:g:r:a' 'S^i^n^g^h']\n"
     ]
    }
   ],
   "source": [
    "#splitting each string with specific character\n",
    "str11 = \"Kushagra\"\n",
    "str12 = \"Singh\"\n",
    "str13 = np.char.join([\":\",\"^\"], [str11, str12])\n",
    "print(str13)"
   ]
  },
  {
   "cell_type": "code",
   "execution_count": 22,
   "metadata": {},
   "outputs": [
    {
     "name": "stdout",
     "output_type": "stream",
     "text": [
      "cursor & keys\n"
     ]
    }
   ],
   "source": [
    "#replacing in string\n",
    "str14 = np.char.replace(str5, \"and\", \"&\") #in 'str5' replace 'and' with '&'\n",
    "print(str14)"
   ]
  },
  {
   "cell_type": "markdown",
   "metadata": {},
   "source": [
    "# Comparision"
   ]
  },
  {
   "cell_type": "code",
   "execution_count": 23,
   "metadata": {},
   "outputs": [
    {
     "data": {
      "text/plain": [
       "array(False)"
      ]
     },
     "execution_count": 23,
     "metadata": {},
     "output_type": "execute_result"
    }
   ],
   "source": [
    "#to find if string are equal or not\n",
    "np.char.equal(str11,str12)"
   ]
  },
  {
   "cell_type": "code",
   "execution_count": 25,
   "metadata": {},
   "outputs": [
    {
     "data": {
      "text/plain": [
       "array(True)"
      ]
     },
     "execution_count": 25,
     "metadata": {},
     "output_type": "execute_result"
    }
   ],
   "source": [
    "np.char.less(str11,str12)"
   ]
  },
  {
   "cell_type": "code",
   "execution_count": 26,
   "metadata": {},
   "outputs": [
    {
     "data": {
      "text/plain": [
       "array(2)"
      ]
     },
     "execution_count": 26,
     "metadata": {},
     "output_type": "execute_result"
    }
   ],
   "source": [
    "#counting character in string\n",
    "np.char.count(str14, \"r\") #o/p = present 2 times"
   ]
  },
  {
   "cell_type": "code",
   "execution_count": 27,
   "metadata": {},
   "outputs": [
    {
     "data": {
      "text/plain": [
       "array(7)"
      ]
     },
     "execution_count": 27,
     "metadata": {},
     "output_type": "execute_result"
    }
   ],
   "source": [
    "#checking if character is present in string or not\n",
    "np.char.find(str14, \"&\") #o/p = present at index 7"
   ]
  },
  {
   "cell_type": "code",
   "execution_count": 28,
   "metadata": {},
   "outputs": [],
   "source": [
    "#these were the mostly used operation for more you can visit:\n",
    "# https://docs.scipy.org/doc/numpy-1.15.1/reference/routines.char.html"
   ]
  }
 ],
 "metadata": {
  "kernelspec": {
   "display_name": "Python 3",
   "language": "python",
   "name": "python3"
  },
  "language_info": {
   "codemirror_mode": {
    "name": "ipython",
    "version": 3
   },
   "file_extension": ".py",
   "mimetype": "text/x-python",
   "name": "python",
   "nbconvert_exporter": "python",
   "pygments_lexer": "ipython3",
   "version": "3.7.6"
  }
 },
 "nbformat": 4,
 "nbformat_minor": 4
}
